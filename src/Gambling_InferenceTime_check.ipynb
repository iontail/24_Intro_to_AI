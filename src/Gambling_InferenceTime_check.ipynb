{
  "nbformat": 4,
  "nbformat_minor": 0,
  "metadata": {
    "colab": {
      "provenance": [],
      "gpuType": "T4"
    },
    "kernelspec": {
      "name": "python3",
      "display_name": "Python 3"
    },
    "language_info": {
      "name": "python"
    },
    "accelerator": "GPU"
  },
  "cells": [
    {
      "cell_type": "code",
      "execution_count": 17,
      "metadata": {
        "id": "ITnmEfj35zZF",
        "colab": {
          "base_uri": "https://localhost:8080/"
        },
        "outputId": "f1309100-1cf2-47d3-a327-bbd4a9cfaaf3"
      },
      "outputs": [
        {
          "output_type": "stream",
          "name": "stdout",
          "text": [
            "Requirement already satisfied: datasets in /usr/local/lib/python3.10/dist-packages (3.1.0)\n",
            "Requirement already satisfied: filelock in /usr/local/lib/python3.10/dist-packages (from datasets) (3.16.1)\n",
            "Requirement already satisfied: numpy>=1.17 in /usr/local/lib/python3.10/dist-packages (from datasets) (1.26.4)\n",
            "Requirement already satisfied: pyarrow>=15.0.0 in /usr/local/lib/python3.10/dist-packages (from datasets) (17.0.0)\n",
            "Requirement already satisfied: dill<0.3.9,>=0.3.0 in /usr/local/lib/python3.10/dist-packages (from datasets) (0.3.8)\n",
            "Requirement already satisfied: pandas in /usr/local/lib/python3.10/dist-packages (from datasets) (2.2.2)\n",
            "Requirement already satisfied: requests>=2.32.2 in /usr/local/lib/python3.10/dist-packages (from datasets) (2.32.3)\n",
            "Requirement already satisfied: tqdm>=4.66.3 in /usr/local/lib/python3.10/dist-packages (from datasets) (4.66.6)\n",
            "Requirement already satisfied: xxhash in /usr/local/lib/python3.10/dist-packages (from datasets) (3.5.0)\n",
            "Requirement already satisfied: multiprocess<0.70.17 in /usr/local/lib/python3.10/dist-packages (from datasets) (0.70.16)\n",
            "Requirement already satisfied: fsspec<=2024.9.0,>=2023.1.0 in /usr/local/lib/python3.10/dist-packages (from fsspec[http]<=2024.9.0,>=2023.1.0->datasets) (2024.9.0)\n",
            "Requirement already satisfied: aiohttp in /usr/local/lib/python3.10/dist-packages (from datasets) (3.11.2)\n",
            "Requirement already satisfied: huggingface-hub>=0.23.0 in /usr/local/lib/python3.10/dist-packages (from datasets) (0.26.2)\n",
            "Requirement already satisfied: packaging in /usr/local/lib/python3.10/dist-packages (from datasets) (24.2)\n",
            "Requirement already satisfied: pyyaml>=5.1 in /usr/local/lib/python3.10/dist-packages (from datasets) (6.0.2)\n",
            "Requirement already satisfied: aiohappyeyeballs>=2.3.0 in /usr/local/lib/python3.10/dist-packages (from aiohttp->datasets) (2.4.3)\n",
            "Requirement already satisfied: aiosignal>=1.1.2 in /usr/local/lib/python3.10/dist-packages (from aiohttp->datasets) (1.3.1)\n",
            "Requirement already satisfied: attrs>=17.3.0 in /usr/local/lib/python3.10/dist-packages (from aiohttp->datasets) (24.2.0)\n",
            "Requirement already satisfied: frozenlist>=1.1.1 in /usr/local/lib/python3.10/dist-packages (from aiohttp->datasets) (1.5.0)\n",
            "Requirement already satisfied: multidict<7.0,>=4.5 in /usr/local/lib/python3.10/dist-packages (from aiohttp->datasets) (6.1.0)\n",
            "Requirement already satisfied: propcache>=0.2.0 in /usr/local/lib/python3.10/dist-packages (from aiohttp->datasets) (0.2.0)\n",
            "Requirement already satisfied: yarl<2.0,>=1.17.0 in /usr/local/lib/python3.10/dist-packages (from aiohttp->datasets) (1.17.2)\n",
            "Requirement already satisfied: async-timeout<6.0,>=4.0 in /usr/local/lib/python3.10/dist-packages (from aiohttp->datasets) (4.0.3)\n",
            "Requirement already satisfied: typing-extensions>=3.7.4.3 in /usr/local/lib/python3.10/dist-packages (from huggingface-hub>=0.23.0->datasets) (4.12.2)\n",
            "Requirement already satisfied: charset-normalizer<4,>=2 in /usr/local/lib/python3.10/dist-packages (from requests>=2.32.2->datasets) (3.4.0)\n",
            "Requirement already satisfied: idna<4,>=2.5 in /usr/local/lib/python3.10/dist-packages (from requests>=2.32.2->datasets) (3.10)\n",
            "Requirement already satisfied: urllib3<3,>=1.21.1 in /usr/local/lib/python3.10/dist-packages (from requests>=2.32.2->datasets) (2.2.3)\n",
            "Requirement already satisfied: certifi>=2017.4.17 in /usr/local/lib/python3.10/dist-packages (from requests>=2.32.2->datasets) (2024.8.30)\n",
            "Requirement already satisfied: python-dateutil>=2.8.2 in /usr/local/lib/python3.10/dist-packages (from pandas->datasets) (2.8.2)\n",
            "Requirement already satisfied: pytz>=2020.1 in /usr/local/lib/python3.10/dist-packages (from pandas->datasets) (2024.2)\n",
            "Requirement already satisfied: tzdata>=2022.7 in /usr/local/lib/python3.10/dist-packages (from pandas->datasets) (2024.2)\n",
            "Requirement already satisfied: six>=1.5 in /usr/local/lib/python3.10/dist-packages (from python-dateutil>=2.8.2->pandas->datasets) (1.16.0)\n",
            "Requirement already satisfied: peft in /usr/local/lib/python3.10/dist-packages (0.13.2)\n",
            "Requirement already satisfied: numpy>=1.17 in /usr/local/lib/python3.10/dist-packages (from peft) (1.26.4)\n",
            "Requirement already satisfied: packaging>=20.0 in /usr/local/lib/python3.10/dist-packages (from peft) (24.2)\n",
            "Requirement already satisfied: psutil in /usr/local/lib/python3.10/dist-packages (from peft) (5.9.5)\n",
            "Requirement already satisfied: pyyaml in /usr/local/lib/python3.10/dist-packages (from peft) (6.0.2)\n",
            "Requirement already satisfied: torch>=1.13.0 in /usr/local/lib/python3.10/dist-packages (from peft) (2.5.1+cu121)\n",
            "Requirement already satisfied: transformers in /usr/local/lib/python3.10/dist-packages (from peft) (4.46.2)\n",
            "Requirement already satisfied: tqdm in /usr/local/lib/python3.10/dist-packages (from peft) (4.66.6)\n",
            "Requirement already satisfied: accelerate>=0.21.0 in /usr/local/lib/python3.10/dist-packages (from peft) (1.1.1)\n",
            "Requirement already satisfied: safetensors in /usr/local/lib/python3.10/dist-packages (from peft) (0.4.5)\n",
            "Requirement already satisfied: huggingface-hub>=0.17.0 in /usr/local/lib/python3.10/dist-packages (from peft) (0.26.2)\n",
            "Requirement already satisfied: filelock in /usr/local/lib/python3.10/dist-packages (from huggingface-hub>=0.17.0->peft) (3.16.1)\n",
            "Requirement already satisfied: fsspec>=2023.5.0 in /usr/local/lib/python3.10/dist-packages (from huggingface-hub>=0.17.0->peft) (2024.9.0)\n",
            "Requirement already satisfied: requests in /usr/local/lib/python3.10/dist-packages (from huggingface-hub>=0.17.0->peft) (2.32.3)\n",
            "Requirement already satisfied: typing-extensions>=3.7.4.3 in /usr/local/lib/python3.10/dist-packages (from huggingface-hub>=0.17.0->peft) (4.12.2)\n",
            "Requirement already satisfied: networkx in /usr/local/lib/python3.10/dist-packages (from torch>=1.13.0->peft) (3.4.2)\n",
            "Requirement already satisfied: jinja2 in /usr/local/lib/python3.10/dist-packages (from torch>=1.13.0->peft) (3.1.4)\n",
            "Requirement already satisfied: sympy==1.13.1 in /usr/local/lib/python3.10/dist-packages (from torch>=1.13.0->peft) (1.13.1)\n",
            "Requirement already satisfied: mpmath<1.4,>=1.1.0 in /usr/local/lib/python3.10/dist-packages (from sympy==1.13.1->torch>=1.13.0->peft) (1.3.0)\n",
            "Requirement already satisfied: regex!=2019.12.17 in /usr/local/lib/python3.10/dist-packages (from transformers->peft) (2024.9.11)\n",
            "Requirement already satisfied: tokenizers<0.21,>=0.20 in /usr/local/lib/python3.10/dist-packages (from transformers->peft) (0.20.3)\n",
            "Requirement already satisfied: MarkupSafe>=2.0 in /usr/local/lib/python3.10/dist-packages (from jinja2->torch>=1.13.0->peft) (3.0.2)\n",
            "Requirement already satisfied: charset-normalizer<4,>=2 in /usr/local/lib/python3.10/dist-packages (from requests->huggingface-hub>=0.17.0->peft) (3.4.0)\n",
            "Requirement already satisfied: idna<4,>=2.5 in /usr/local/lib/python3.10/dist-packages (from requests->huggingface-hub>=0.17.0->peft) (3.10)\n",
            "Requirement already satisfied: urllib3<3,>=1.21.1 in /usr/local/lib/python3.10/dist-packages (from requests->huggingface-hub>=0.17.0->peft) (2.2.3)\n",
            "Requirement already satisfied: certifi>=2017.4.17 in /usr/local/lib/python3.10/dist-packages (from requests->huggingface-hub>=0.17.0->peft) (2024.8.30)\n",
            "Requirement already satisfied: gdown in /usr/local/lib/python3.10/dist-packages (5.2.0)\n",
            "Requirement already satisfied: beautifulsoup4 in /usr/local/lib/python3.10/dist-packages (from gdown) (4.12.3)\n",
            "Requirement already satisfied: filelock in /usr/local/lib/python3.10/dist-packages (from gdown) (3.16.1)\n",
            "Requirement already satisfied: requests[socks] in /usr/local/lib/python3.10/dist-packages (from gdown) (2.32.3)\n",
            "Requirement already satisfied: tqdm in /usr/local/lib/python3.10/dist-packages (from gdown) (4.66.6)\n",
            "Requirement already satisfied: soupsieve>1.2 in /usr/local/lib/python3.10/dist-packages (from beautifulsoup4->gdown) (2.6)\n",
            "Requirement already satisfied: charset-normalizer<4,>=2 in /usr/local/lib/python3.10/dist-packages (from requests[socks]->gdown) (3.4.0)\n",
            "Requirement already satisfied: idna<4,>=2.5 in /usr/local/lib/python3.10/dist-packages (from requests[socks]->gdown) (3.10)\n",
            "Requirement already satisfied: urllib3<3,>=1.21.1 in /usr/local/lib/python3.10/dist-packages (from requests[socks]->gdown) (2.2.3)\n",
            "Requirement already satisfied: certifi>=2017.4.17 in /usr/local/lib/python3.10/dist-packages (from requests[socks]->gdown) (2024.8.30)\n",
            "Requirement already satisfied: PySocks!=1.5.7,>=1.5.6 in /usr/local/lib/python3.10/dist-packages (from requests[socks]->gdown) (1.7.1)\n"
          ]
        }
      ],
      "source": [
        "!pip install datasets\n",
        "!pip install peft\n",
        "!pip install gdown"
      ]
    },
    {
      "cell_type": "code",
      "source": [
        "import torch\n",
        "import torch.nn as nn\n",
        "import numpy as np\n",
        "import pandas as pd\n",
        "from datasets import Dataset\n",
        "from transformers import AutoTokenizer, DistilBertForSequenceClassification, get_scheduler, BertForSequenceClassification\n",
        "from peft import get_peft_model, LoraConfig, TaskType\n",
        "import gdown\n",
        "import time"
      ],
      "metadata": {
        "id": "gqe7ERB66HN2"
      },
      "execution_count": 18,
      "outputs": []
    },
    {
      "cell_type": "code",
      "source": [
        "url = 'https://drive.google.com/uc?id=12MOGiCveDE8CTvtHKqmEhyJIXc3gEscd'\n",
        "\n",
        "device = torch.device('cuda' if torch.cuda.is_available() else 'cpu')\n",
        "\n",
        "model_name = 'TwoStageDistilBERT_LoRA.pt'\n",
        "checkpoint = \"distilbert/distilbert-base-uncased\"\n",
        "bert_checkpoint = 'skt/kobert-base-v1'\n",
        "\n",
        "tokenizer = AutoTokenizer.from_pretrained(checkpoint)\n",
        "#bert_tokenizer = AutoTmokenizer.from_pretrained(bert_checkpoint)\n",
        "\n",
        "gdown.download(url, model_name, quiet = False)\n",
        "\n",
        "model_checkpoint = torch.load(model_name, map_location = device)"
      ],
      "metadata": {
        "id": "NHxSQiNz6HSc",
        "colab": {
          "base_uri": "https://localhost:8080/"
        },
        "outputId": "fc2ff09f-29a2-4f10-96e6-16039aab987f"
      },
      "execution_count": 19,
      "outputs": [
        {
          "output_type": "stream",
          "name": "stderr",
          "text": [
            "Downloading...\n",
            "From (original): https://drive.google.com/uc?id=12MOGiCveDE8CTvtHKqmEhyJIXc3gEscd\n",
            "From (redirected): https://drive.google.com/uc?id=12MOGiCveDE8CTvtHKqmEhyJIXc3gEscd&confirm=t&uuid=835c41de-42f3-4f81-bbe7-dd0f6fbbf736\n",
            "To: /content/TwoStageDistilBERT_LoRA.pt\n",
            "100%|██████████| 893M/893M [00:11<00:00, 80.5MB/s]\n",
            "<ipython-input-19-fdf51cd4e783>:14: FutureWarning: You are using `torch.load` with `weights_only=False` (the current default value), which uses the default pickle module implicitly. It is possible to construct malicious pickle data which will execute arbitrary code during unpickling (See https://github.com/pytorch/pytorch/blob/main/SECURITY.md#untrusted-models for more details). In a future release, the default value for `weights_only` will be flipped to `True`. This limits the functions that could be executed during unpickling. Arbitrary objects will no longer be allowed to be loaded via this mode unless they are explicitly allowlisted by the user via `torch.serialization.add_safe_globals`. We recommend you start setting `weights_only=True` for any use case where you don't have full control of the loaded file. Please open an issue on GitHub for any issues related to this experimental feature.\n",
            "  model_checkpoint = torch.load(model_name, map_location = device)\n"
          ]
        }
      ]
    },
    {
      "cell_type": "code",
      "source": [
        "device = torch.device('cuda' if torch.cuda.is_available() else 'cpu')\n",
        "checkpoint = \"distilbert/distilbert-base-uncased\"\n",
        "bert_checkpoint = 'skt/kobert-base-v1'\n",
        "\n",
        "tokenizer = AutoTokenizer.from_pretrained(checkpoint)"
      ],
      "metadata": {
        "id": "yXNwj5l_A16i"
      },
      "execution_count": 20,
      "outputs": []
    },
    {
      "cell_type": "code",
      "source": [
        "class TwoStageDistilBERT_LoRA(nn.Module):\n",
        "  def __init__(self, distilbert_checkpoint, num_labels_1stage = 2, num_labels_2stage = 3):\n",
        "    super(TwoStageDistilBERT_LoRA, self).__init__()\n",
        "\n",
        "\n",
        "    # 첫 번째 stage\n",
        "    self.distilbert1 = DistilBertForSequenceClassification.from_pretrained(distilbert_checkpoint,\n",
        "                                                                           num_labels = num_labels_1stage, ignore_mismatched_sizes = True,\n",
        "                                                                           output_hidden_states=True)\n",
        "\n",
        "    lora_config1 = LoraConfig(task_type = TaskType.SEQ_CLS, r = 8, lora_alpha = 32, target_modules = ['q_lin', 'v_lin'], lora_dropout = 0.1 )\n",
        "    self.distilbert1 = get_peft_model(self.distilbert1, lora_config1)\n",
        "    self.distilbert1 = get_peft_model(self.distilbert1, lora_config1)\n",
        "\n",
        "    # 두 번째 stage\n",
        "    self.distilbert2 = DistilBertForSequenceClassification.from_pretrained(distilbert_checkpoint,\n",
        "                                                                           num_labels = num_labels_2stage, ignore_mismatched_sizes = True)\n",
        "\n",
        "\n",
        "\n",
        "\n",
        "  def forward(self, input_ids,  attention_mask, labels1 = None, labels2 = None):\n",
        "    output1 = self.distilbert1(input_ids = input_ids, attention_mask = attention_mask, labels = labels1)\n",
        "    hidden1 = output1.hidden_states[-1] # 마지막 레이어의 hidden state 가져오기\n",
        "    logits1 = output1.logits\n",
        "\n",
        "    pred1 = torch.argmax(logits1, dim = 1)\n",
        "\n",
        "    output2 = self.distilbert2(inputs_embeds = hidden1, attention_mask = attention_mask, labels = labels2)\n",
        "    logits2 = output2.logits\n",
        "\n",
        "    total_loss = output1.loss + output2.loss\n",
        "\n",
        "\n",
        "    return total_loss, logits1, logits2"
      ],
      "metadata": {
        "id": "7H2iYRQN6HVs"
      },
      "execution_count": 21,
      "outputs": []
    },
    {
      "cell_type": "code",
      "source": [
        "def load_checkpoint(model, model_checkpoint):\n",
        "  model.load_state_dict(model_checkpoint['model_state_dict'])\n",
        "\n",
        "  print(f\"Checkpoint loaded!\")\n",
        "  return model\n",
        "\n",
        "\n",
        "model = TwoStageDistilBERT_LoRA(distilbert_checkpoint = checkpoint)\n",
        "\n",
        "model = load_checkpoint(model, model_checkpoint)"
      ],
      "metadata": {
        "id": "Ho6uyRn66HYk",
        "colab": {
          "base_uri": "https://localhost:8080/"
        },
        "outputId": "89e91b2e-9403-414f-d5b1-9e5ed3e3d478"
      },
      "execution_count": 22,
      "outputs": [
        {
          "output_type": "stream",
          "name": "stderr",
          "text": [
            "Some weights of DistilBertForSequenceClassification were not initialized from the model checkpoint at distilbert/distilbert-base-uncased and are newly initialized: ['classifier.bias', 'classifier.weight', 'pre_classifier.bias', 'pre_classifier.weight']\n",
            "You should probably TRAIN this model on a down-stream task to be able to use it for predictions and inference.\n",
            "/usr/local/lib/python3.10/dist-packages/peft/mapping.py:172: UserWarning: The PEFT config's `base_model_name_or_path` was renamed from 'distilbert/distilbert-base-uncased' to 'None'. Please ensure that the correct base model is loaded when loading this checkpoint.\n",
            "  warnings.warn(\n",
            "Some weights of DistilBertForSequenceClassification were not initialized from the model checkpoint at distilbert/distilbert-base-uncased and are newly initialized: ['classifier.bias', 'classifier.weight', 'pre_classifier.bias', 'pre_classifier.weight']\n",
            "You should probably TRAIN this model on a down-stream task to be able to use it for predictions and inference.\n"
          ]
        },
        {
          "output_type": "stream",
          "name": "stdout",
          "text": [
            "Checkpoint loaded!\n"
          ]
        }
      ]
    },
    {
      "cell_type": "code",
      "source": [
        "text = ['서울대 캠퍼스 입학 교육 대학 교수 학생 공지 연구 대학원 서울대학교 지원 도서관 서비스 미디어 월 행정 캘린더 센터 학사 뉴스 프로그램 학습 수 제 인스타그램 성과 구지원 학술 사항 안내 생활 관악 소식 소개 기념 역사 맵 가을 일 년 단 부문 영상 모습 회 중앙 예술 메뉴 일반']"
      ],
      "metadata": {
        "id": "D2OW414p6Hem"
      },
      "execution_count": 23,
      "outputs": []
    },
    {
      "cell_type": "code",
      "source": [
        "# https://seungseop.tistory.com/41\n",
        "\n",
        "def model_inference(model, tokenizer, text):\n",
        "  model.eval()\n",
        "  model = model.to(device)\n",
        "\n",
        "  start_event = torch.cuda.Event(enable_timing = True)\n",
        "  end_event = torch.cuda.Event(enable_timing = True)\n",
        "\n",
        "  with torch.no_grad():\n",
        "\n",
        "\n",
        "    # 텍스트를 토큰화\n",
        "    inputs = tokenizer(text, return_tensors=\"pt\", padding=True, truncation=True, max_length=512)\n",
        "\n",
        "    start_event.record()\n",
        "\n",
        "    #입력에 대한 추론 (추론에서는 gradient 필요없음)\n",
        "    input_ids = inputs['input_ids'].to(device)\n",
        "    attention_mask = inputs['attention_mask'].to(device)\n",
        "\n",
        "    # 1단계 모델에 입력\n",
        "    output1 = model.distilbert1(input_ids=input_ids, attention_mask=attention_mask)\n",
        "    logits1 = output1.logits\n",
        "\n",
        "    hidden1 = output1.hidden_states[-1]  # 마지막 레이어의 hidden state\n",
        "    output2 = model.distilbert2(inputs_embeds=hidden1, attention_mask=attention_mask)\n",
        "\n",
        "    end_event.record()\n",
        "\n",
        "  torch.cuda.synchronize()\n",
        "\n",
        "  time_taken = start_event.elapsed_time(end_event)\n",
        "  return time_taken"
      ],
      "metadata": {
        "id": "Aw9TTcTj7qLU"
      },
      "execution_count": 24,
      "outputs": []
    },
    {
      "cell_type": "code",
      "source": [
        "distilbert_inference = model_inference(model, tokenizer, text)\n",
        "print(f\"Elapsed time on GPU: {distilbert_inference} mile seconds\")"
      ],
      "metadata": {
        "id": "98SxXx-D7qOB",
        "colab": {
          "base_uri": "https://localhost:8080/"
        },
        "outputId": "09345f93-2217-431e-f7ae-3c2787e854be"
      },
      "execution_count": 25,
      "outputs": [
        {
          "output_type": "stream",
          "name": "stdout",
          "text": [
            "Elapsed time on GPU: 45.69004821777344 mile seconds\n"
          ]
        }
      ]
    },
    {
      "cell_type": "code",
      "source": [
        "for name, module in BertForSequenceClassification.from_pretrained(bert_checkpoint,\n",
        "                                                                           num_labels = 2, ignore_mismatched_sizes = True,\n",
        "                                                                           output_hidden_states=True).named_modules():\n",
        "  print(name)"
      ],
      "metadata": {
        "id": "9tRLkc33AIw7",
        "colab": {
          "base_uri": "https://localhost:8080/"
        },
        "outputId": "42e1c9f9-907c-4c58-ec74-4ee069d10254"
      },
      "execution_count": 26,
      "outputs": [
        {
          "output_type": "stream",
          "name": "stderr",
          "text": [
            "Some weights of BertForSequenceClassification were not initialized from the model checkpoint at skt/kobert-base-v1 and are newly initialized: ['classifier.bias', 'classifier.weight']\n",
            "You should probably TRAIN this model on a down-stream task to be able to use it for predictions and inference.\n"
          ]
        },
        {
          "output_type": "stream",
          "name": "stdout",
          "text": [
            "\n",
            "bert\n",
            "bert.embeddings\n",
            "bert.embeddings.word_embeddings\n",
            "bert.embeddings.position_embeddings\n",
            "bert.embeddings.token_type_embeddings\n",
            "bert.embeddings.LayerNorm\n",
            "bert.embeddings.dropout\n",
            "bert.encoder\n",
            "bert.encoder.layer\n",
            "bert.encoder.layer.0\n",
            "bert.encoder.layer.0.attention\n",
            "bert.encoder.layer.0.attention.self\n",
            "bert.encoder.layer.0.attention.self.query\n",
            "bert.encoder.layer.0.attention.self.key\n",
            "bert.encoder.layer.0.attention.self.value\n",
            "bert.encoder.layer.0.attention.self.dropout\n",
            "bert.encoder.layer.0.attention.output\n",
            "bert.encoder.layer.0.attention.output.dense\n",
            "bert.encoder.layer.0.attention.output.LayerNorm\n",
            "bert.encoder.layer.0.attention.output.dropout\n",
            "bert.encoder.layer.0.intermediate\n",
            "bert.encoder.layer.0.intermediate.dense\n",
            "bert.encoder.layer.0.intermediate.intermediate_act_fn\n",
            "bert.encoder.layer.0.output\n",
            "bert.encoder.layer.0.output.dense\n",
            "bert.encoder.layer.0.output.LayerNorm\n",
            "bert.encoder.layer.0.output.dropout\n",
            "bert.encoder.layer.1\n",
            "bert.encoder.layer.1.attention\n",
            "bert.encoder.layer.1.attention.self\n",
            "bert.encoder.layer.1.attention.self.query\n",
            "bert.encoder.layer.1.attention.self.key\n",
            "bert.encoder.layer.1.attention.self.value\n",
            "bert.encoder.layer.1.attention.self.dropout\n",
            "bert.encoder.layer.1.attention.output\n",
            "bert.encoder.layer.1.attention.output.dense\n",
            "bert.encoder.layer.1.attention.output.LayerNorm\n",
            "bert.encoder.layer.1.attention.output.dropout\n",
            "bert.encoder.layer.1.intermediate\n",
            "bert.encoder.layer.1.intermediate.dense\n",
            "bert.encoder.layer.1.intermediate.intermediate_act_fn\n",
            "bert.encoder.layer.1.output\n",
            "bert.encoder.layer.1.output.dense\n",
            "bert.encoder.layer.1.output.LayerNorm\n",
            "bert.encoder.layer.1.output.dropout\n",
            "bert.encoder.layer.2\n",
            "bert.encoder.layer.2.attention\n",
            "bert.encoder.layer.2.attention.self\n",
            "bert.encoder.layer.2.attention.self.query\n",
            "bert.encoder.layer.2.attention.self.key\n",
            "bert.encoder.layer.2.attention.self.value\n",
            "bert.encoder.layer.2.attention.self.dropout\n",
            "bert.encoder.layer.2.attention.output\n",
            "bert.encoder.layer.2.attention.output.dense\n",
            "bert.encoder.layer.2.attention.output.LayerNorm\n",
            "bert.encoder.layer.2.attention.output.dropout\n",
            "bert.encoder.layer.2.intermediate\n",
            "bert.encoder.layer.2.intermediate.dense\n",
            "bert.encoder.layer.2.intermediate.intermediate_act_fn\n",
            "bert.encoder.layer.2.output\n",
            "bert.encoder.layer.2.output.dense\n",
            "bert.encoder.layer.2.output.LayerNorm\n",
            "bert.encoder.layer.2.output.dropout\n",
            "bert.encoder.layer.3\n",
            "bert.encoder.layer.3.attention\n",
            "bert.encoder.layer.3.attention.self\n",
            "bert.encoder.layer.3.attention.self.query\n",
            "bert.encoder.layer.3.attention.self.key\n",
            "bert.encoder.layer.3.attention.self.value\n",
            "bert.encoder.layer.3.attention.self.dropout\n",
            "bert.encoder.layer.3.attention.output\n",
            "bert.encoder.layer.3.attention.output.dense\n",
            "bert.encoder.layer.3.attention.output.LayerNorm\n",
            "bert.encoder.layer.3.attention.output.dropout\n",
            "bert.encoder.layer.3.intermediate\n",
            "bert.encoder.layer.3.intermediate.dense\n",
            "bert.encoder.layer.3.intermediate.intermediate_act_fn\n",
            "bert.encoder.layer.3.output\n",
            "bert.encoder.layer.3.output.dense\n",
            "bert.encoder.layer.3.output.LayerNorm\n",
            "bert.encoder.layer.3.output.dropout\n",
            "bert.encoder.layer.4\n",
            "bert.encoder.layer.4.attention\n",
            "bert.encoder.layer.4.attention.self\n",
            "bert.encoder.layer.4.attention.self.query\n",
            "bert.encoder.layer.4.attention.self.key\n",
            "bert.encoder.layer.4.attention.self.value\n",
            "bert.encoder.layer.4.attention.self.dropout\n",
            "bert.encoder.layer.4.attention.output\n",
            "bert.encoder.layer.4.attention.output.dense\n",
            "bert.encoder.layer.4.attention.output.LayerNorm\n",
            "bert.encoder.layer.4.attention.output.dropout\n",
            "bert.encoder.layer.4.intermediate\n",
            "bert.encoder.layer.4.intermediate.dense\n",
            "bert.encoder.layer.4.intermediate.intermediate_act_fn\n",
            "bert.encoder.layer.4.output\n",
            "bert.encoder.layer.4.output.dense\n",
            "bert.encoder.layer.4.output.LayerNorm\n",
            "bert.encoder.layer.4.output.dropout\n",
            "bert.encoder.layer.5\n",
            "bert.encoder.layer.5.attention\n",
            "bert.encoder.layer.5.attention.self\n",
            "bert.encoder.layer.5.attention.self.query\n",
            "bert.encoder.layer.5.attention.self.key\n",
            "bert.encoder.layer.5.attention.self.value\n",
            "bert.encoder.layer.5.attention.self.dropout\n",
            "bert.encoder.layer.5.attention.output\n",
            "bert.encoder.layer.5.attention.output.dense\n",
            "bert.encoder.layer.5.attention.output.LayerNorm\n",
            "bert.encoder.layer.5.attention.output.dropout\n",
            "bert.encoder.layer.5.intermediate\n",
            "bert.encoder.layer.5.intermediate.dense\n",
            "bert.encoder.layer.5.intermediate.intermediate_act_fn\n",
            "bert.encoder.layer.5.output\n",
            "bert.encoder.layer.5.output.dense\n",
            "bert.encoder.layer.5.output.LayerNorm\n",
            "bert.encoder.layer.5.output.dropout\n",
            "bert.encoder.layer.6\n",
            "bert.encoder.layer.6.attention\n",
            "bert.encoder.layer.6.attention.self\n",
            "bert.encoder.layer.6.attention.self.query\n",
            "bert.encoder.layer.6.attention.self.key\n",
            "bert.encoder.layer.6.attention.self.value\n",
            "bert.encoder.layer.6.attention.self.dropout\n",
            "bert.encoder.layer.6.attention.output\n",
            "bert.encoder.layer.6.attention.output.dense\n",
            "bert.encoder.layer.6.attention.output.LayerNorm\n",
            "bert.encoder.layer.6.attention.output.dropout\n",
            "bert.encoder.layer.6.intermediate\n",
            "bert.encoder.layer.6.intermediate.dense\n",
            "bert.encoder.layer.6.intermediate.intermediate_act_fn\n",
            "bert.encoder.layer.6.output\n",
            "bert.encoder.layer.6.output.dense\n",
            "bert.encoder.layer.6.output.LayerNorm\n",
            "bert.encoder.layer.6.output.dropout\n",
            "bert.encoder.layer.7\n",
            "bert.encoder.layer.7.attention\n",
            "bert.encoder.layer.7.attention.self\n",
            "bert.encoder.layer.7.attention.self.query\n",
            "bert.encoder.layer.7.attention.self.key\n",
            "bert.encoder.layer.7.attention.self.value\n",
            "bert.encoder.layer.7.attention.self.dropout\n",
            "bert.encoder.layer.7.attention.output\n",
            "bert.encoder.layer.7.attention.output.dense\n",
            "bert.encoder.layer.7.attention.output.LayerNorm\n",
            "bert.encoder.layer.7.attention.output.dropout\n",
            "bert.encoder.layer.7.intermediate\n",
            "bert.encoder.layer.7.intermediate.dense\n",
            "bert.encoder.layer.7.intermediate.intermediate_act_fn\n",
            "bert.encoder.layer.7.output\n",
            "bert.encoder.layer.7.output.dense\n",
            "bert.encoder.layer.7.output.LayerNorm\n",
            "bert.encoder.layer.7.output.dropout\n",
            "bert.encoder.layer.8\n",
            "bert.encoder.layer.8.attention\n",
            "bert.encoder.layer.8.attention.self\n",
            "bert.encoder.layer.8.attention.self.query\n",
            "bert.encoder.layer.8.attention.self.key\n",
            "bert.encoder.layer.8.attention.self.value\n",
            "bert.encoder.layer.8.attention.self.dropout\n",
            "bert.encoder.layer.8.attention.output\n",
            "bert.encoder.layer.8.attention.output.dense\n",
            "bert.encoder.layer.8.attention.output.LayerNorm\n",
            "bert.encoder.layer.8.attention.output.dropout\n",
            "bert.encoder.layer.8.intermediate\n",
            "bert.encoder.layer.8.intermediate.dense\n",
            "bert.encoder.layer.8.intermediate.intermediate_act_fn\n",
            "bert.encoder.layer.8.output\n",
            "bert.encoder.layer.8.output.dense\n",
            "bert.encoder.layer.8.output.LayerNorm\n",
            "bert.encoder.layer.8.output.dropout\n",
            "bert.encoder.layer.9\n",
            "bert.encoder.layer.9.attention\n",
            "bert.encoder.layer.9.attention.self\n",
            "bert.encoder.layer.9.attention.self.query\n",
            "bert.encoder.layer.9.attention.self.key\n",
            "bert.encoder.layer.9.attention.self.value\n",
            "bert.encoder.layer.9.attention.self.dropout\n",
            "bert.encoder.layer.9.attention.output\n",
            "bert.encoder.layer.9.attention.output.dense\n",
            "bert.encoder.layer.9.attention.output.LayerNorm\n",
            "bert.encoder.layer.9.attention.output.dropout\n",
            "bert.encoder.layer.9.intermediate\n",
            "bert.encoder.layer.9.intermediate.dense\n",
            "bert.encoder.layer.9.intermediate.intermediate_act_fn\n",
            "bert.encoder.layer.9.output\n",
            "bert.encoder.layer.9.output.dense\n",
            "bert.encoder.layer.9.output.LayerNorm\n",
            "bert.encoder.layer.9.output.dropout\n",
            "bert.encoder.layer.10\n",
            "bert.encoder.layer.10.attention\n",
            "bert.encoder.layer.10.attention.self\n",
            "bert.encoder.layer.10.attention.self.query\n",
            "bert.encoder.layer.10.attention.self.key\n",
            "bert.encoder.layer.10.attention.self.value\n",
            "bert.encoder.layer.10.attention.self.dropout\n",
            "bert.encoder.layer.10.attention.output\n",
            "bert.encoder.layer.10.attention.output.dense\n",
            "bert.encoder.layer.10.attention.output.LayerNorm\n",
            "bert.encoder.layer.10.attention.output.dropout\n",
            "bert.encoder.layer.10.intermediate\n",
            "bert.encoder.layer.10.intermediate.dense\n",
            "bert.encoder.layer.10.intermediate.intermediate_act_fn\n",
            "bert.encoder.layer.10.output\n",
            "bert.encoder.layer.10.output.dense\n",
            "bert.encoder.layer.10.output.LayerNorm\n",
            "bert.encoder.layer.10.output.dropout\n",
            "bert.encoder.layer.11\n",
            "bert.encoder.layer.11.attention\n",
            "bert.encoder.layer.11.attention.self\n",
            "bert.encoder.layer.11.attention.self.query\n",
            "bert.encoder.layer.11.attention.self.key\n",
            "bert.encoder.layer.11.attention.self.value\n",
            "bert.encoder.layer.11.attention.self.dropout\n",
            "bert.encoder.layer.11.attention.output\n",
            "bert.encoder.layer.11.attention.output.dense\n",
            "bert.encoder.layer.11.attention.output.LayerNorm\n",
            "bert.encoder.layer.11.attention.output.dropout\n",
            "bert.encoder.layer.11.intermediate\n",
            "bert.encoder.layer.11.intermediate.dense\n",
            "bert.encoder.layer.11.intermediate.intermediate_act_fn\n",
            "bert.encoder.layer.11.output\n",
            "bert.encoder.layer.11.output.dense\n",
            "bert.encoder.layer.11.output.LayerNorm\n",
            "bert.encoder.layer.11.output.dropout\n",
            "bert.pooler\n",
            "bert.pooler.dense\n",
            "bert.pooler.activation\n",
            "dropout\n",
            "classifier\n"
          ]
        }
      ]
    },
    {
      "cell_type": "code",
      "source": [
        "class TwoStageBERT_LoRA(nn.Module):\n",
        "  def __init__(self, bert_checkpoint, num_labels_1stage = 2, num_labels_2stage = 3):\n",
        "    super(TwoStageBERT_LoRA, self).__init__()\n",
        "\n",
        "\n",
        "    # 첫 번째 stage\n",
        "    self.distilbert1 = BertForSequenceClassification.from_pretrained(bert_checkpoint,\n",
        "                                                                           num_labels = num_labels_1stage, ignore_mismatched_sizes = True,\n",
        "                                                                           output_hidden_states=True)\n",
        "\n",
        "    lora_config1 = LoraConfig(task_type = TaskType.SEQ_CLS, r = 8, lora_alpha = 32, target_modules = ['query', 'value'], lora_dropout = 0.1 )\n",
        "    self.distilbert1 = get_peft_model(self.distilbert1, lora_config1)\n",
        "    self.distilbert1 = get_peft_model(self.distilbert1, lora_config1)\n",
        "\n",
        "    # 두 번째 stage\n",
        "    self.distilbert2 = BertForSequenceClassification.from_pretrained(bert_checkpoint,\n",
        "                                                                           num_labels = num_labels_2stage, ignore_mismatched_sizes = True)\n",
        "\n",
        "\n",
        "\n",
        "\n",
        "  def forward(self, input_ids,  attention_mask, labels1 = None, labels2 = None):\n",
        "    output1 = self.distilbert1(input_ids = input_ids, attention_mask = attention_mask, labels = labels1)\n",
        "    hidden1 = output1.hidden_states[-1] # 마지막 레이어의 hidden state 가져오기\n",
        "    logits1 = output1.logits\n",
        "\n",
        "    pred1 = torch.argmax(logits1, dim = 1)\n",
        "\n",
        "    output2 = self.distilbert2(inputs_embeds = hidden1, attention_mask = attention_mask, labels = labels2)\n",
        "    logits2 = output2.logits\n",
        "\n",
        "    total_loss = output1.loss + output2.loss\n",
        "\n",
        "\n",
        "    return total_loss, logits1, logits2"
      ],
      "metadata": {
        "id": "OD8HWIGI7qY7"
      },
      "execution_count": 27,
      "outputs": []
    },
    {
      "cell_type": "code",
      "source": [
        "bert_model = TwoStageBERT_LoRA(bert_checkpoint)"
      ],
      "metadata": {
        "id": "t8tD_y2u6Hhi",
        "colab": {
          "base_uri": "https://localhost:8080/"
        },
        "outputId": "10ee5277-ba29-4f6b-806a-fd123e4055b4"
      },
      "execution_count": 28,
      "outputs": [
        {
          "output_type": "stream",
          "name": "stderr",
          "text": [
            "Some weights of BertForSequenceClassification were not initialized from the model checkpoint at skt/kobert-base-v1 and are newly initialized: ['classifier.bias', 'classifier.weight']\n",
            "You should probably TRAIN this model on a down-stream task to be able to use it for predictions and inference.\n",
            "Some weights of BertForSequenceClassification were not initialized from the model checkpoint at skt/kobert-base-v1 and are newly initialized: ['classifier.bias', 'classifier.weight']\n",
            "You should probably TRAIN this model on a down-stream task to be able to use it for predictions and inference.\n"
          ]
        }
      ]
    },
    {
      "cell_type": "code",
      "source": [
        "bert_checkpoint = 'skt/kobert-base-v1'\n",
        "\n",
        "bert_tokenizer = AutoTokenizer.from_pretrained(bert_checkpoint)\n",
        "\n",
        "\n",
        "bert_inference = model_inference(bert_model, bert_tokenizer, text)\n",
        "print(f\"Elapsed time on GPU: {bert_inference } mile seconds\")"
      ],
      "metadata": {
        "id": "Q7F_dnzrAHbS",
        "colab": {
          "base_uri": "https://localhost:8080/"
        },
        "outputId": "71e4b1e4-4e4a-4416-f944-223c000f558e"
      },
      "execution_count": 29,
      "outputs": [
        {
          "output_type": "stream",
          "name": "stdout",
          "text": [
            "Elapsed time on GPU: 109.54857635498047 mile seconds\n"
          ]
        }
      ]
    },
    {
      "cell_type": "code",
      "source": [
        "class TwoStageDistilBERT_LoRA1(nn.Module):\n",
        "  def __init__(self, distilbert_checkpoint, num_labels_1stage = 2, num_labels_2stage = 3):\n",
        "    super(TwoStageDistilBERT_LoRA1, self).__init__()\n",
        "\n",
        "\n",
        "    # 첫 번째 stage\n",
        "    self.distilbert1 = DistilBertForSequenceClassification.from_pretrained(distilbert_checkpoint,\n",
        "                                                                           num_labels = num_labels_1stage, ignore_mismatched_sizes = True,\n",
        "                                                                           output_hidden_states=True)\n",
        "\n",
        "    lora_config1 = LoraConfig(task_type = TaskType.SEQ_CLS, r = 8, lora_alpha = 32, target_modules = ['q_lin', 'v_lin'], lora_dropout = 0.1 )\n",
        "    self.distilbert1 = get_peft_model(self.distilbert1, lora_config1)\n",
        "\n",
        "    # 두 번째 stage\n",
        "    self.distilbert2 = DistilBertForSequenceClassification.from_pretrained(distilbert_checkpoint,\n",
        "                                                                           num_labels = num_labels_2stage, ignore_mismatched_sizes = True)\n",
        "\n",
        "\n",
        "\n",
        "\n",
        "  def forward(self, input_ids,  attention_mask, labels1 = None, labels2 = None):\n",
        "    output1 = self.distilbert1(input_ids = input_ids, attention_mask = attention_mask, labels = labels1)\n",
        "    hidden1 = output1.hidden_states[-1] # 마지막 레이어의 hidden state 가져오기\n",
        "    logits1 = output1.logits\n",
        "\n",
        "    pred1 = torch.argmax(logits1, dim = 1)\n",
        "\n",
        "    output2 = self.distilbert2(inputs_embeds = hidden1, attention_mask = attention_mask, labels = labels2)\n",
        "    logits2 = output2.logits\n",
        "\n",
        "    total_loss = output1.loss + output2.loss\n",
        "\n",
        "\n",
        "    return total_loss, logits1, logits2"
      ],
      "metadata": {
        "id": "Kohyt8i6ifzP"
      },
      "execution_count": 30,
      "outputs": []
    },
    {
      "cell_type": "code",
      "source": [
        "distilbert_lora1_model = TwoStageDistilBERT_LoRA1(distilbert_checkpoint = checkpoint)\n",
        "\n",
        "distilbert_lora1_inference = model_inference(distilbert_lora1_model, tokenizer, text)\n",
        "print(f\"Elapsed time on GPU: {distilbert_lora1_inference} mile seconds\")"
      ],
      "metadata": {
        "colab": {
          "base_uri": "https://localhost:8080/"
        },
        "id": "8fDC12sJiw0e",
        "outputId": "5a098eb1-479d-455e-997e-95cf0228e16d"
      },
      "execution_count": 31,
      "outputs": [
        {
          "output_type": "stream",
          "name": "stderr",
          "text": [
            "Some weights of DistilBertForSequenceClassification were not initialized from the model checkpoint at distilbert/distilbert-base-uncased and are newly initialized: ['classifier.bias', 'classifier.weight', 'pre_classifier.bias', 'pre_classifier.weight']\n",
            "You should probably TRAIN this model on a down-stream task to be able to use it for predictions and inference.\n",
            "Some weights of DistilBertForSequenceClassification were not initialized from the model checkpoint at distilbert/distilbert-base-uncased and are newly initialized: ['classifier.bias', 'classifier.weight', 'pre_classifier.bias', 'pre_classifier.weight']\n",
            "You should probably TRAIN this model on a down-stream task to be able to use it for predictions and inference.\n"
          ]
        },
        {
          "output_type": "stream",
          "name": "stdout",
          "text": [
            "Elapsed time on GPU: 30.306175231933594 mile seconds\n"
          ]
        }
      ]
    },
    {
      "cell_type": "code",
      "source": [
        "print(f'DistilBERT: {distilbert_inference:.3f}ms, BERT: {bert_inference:.3f}ms')\n",
        "print(f'DistilBERT model is {bert_inference /distilbert_inference:.1f} times faster')"
      ],
      "metadata": {
        "id": "EvLN96n2_UK5",
        "colab": {
          "base_uri": "https://localhost:8080/"
        },
        "outputId": "cea9a331-e113-4a02-9c2d-12f3e31c7c57"
      },
      "execution_count": 32,
      "outputs": [
        {
          "output_type": "stream",
          "name": "stdout",
          "text": [
            "DistilBERT: 45.690ms, BERT: 109.549ms\n",
            "DistilBERT model is 2.4 times faster\n"
          ]
        }
      ]
    },
    {
      "cell_type": "code",
      "source": [
        "a = []\n",
        "b = []\n",
        "c = []\n",
        "for i in range(100):\n",
        "  bert_inference = model_inference(bert_model, bert_tokenizer, text)\n",
        "  distilbert_lora1_inference = model_inference(distilbert_lora1_model, tokenizer, text)\n",
        "  distilbert_inference = model_inference(model, tokenizer, text)\n",
        "  c.append(bert_inference)\n",
        "  b.append(distilbert_lora1_inference)\n",
        "  a.append(distilbert_inference)\n",
        "  print(f'DistilBERT: {distilbert_inference:.3f}ms, LoRA_1: {distilbert_lora1_inference:.3f}ms, BERT: {bert_inference:.3f}ms')\n",
        "  print(f'DistilBERT model is {bert_inference /distilbert_inference:.1f} times faster')"
      ],
      "metadata": {
        "id": "ldOaGZDXDQR3",
        "colab": {
          "base_uri": "https://localhost:8080/"
        },
        "outputId": "f1fec618-5be3-446b-9cb2-9373d2d353de"
      },
      "execution_count": 35,
      "outputs": [
        {
          "output_type": "stream",
          "name": "stdout",
          "text": [
            "DistilBERT: 35.747ms, LoRA_1: 30.161ms, BERT: 78.512ms\n",
            "DistilBERT model is 2.2 times faster\n",
            "DistilBERT: 29.114ms, LoRA_1: 33.538ms, BERT: 34.275ms\n",
            "DistilBERT model is 1.2 times faster\n",
            "DistilBERT: 24.301ms, LoRA_1: 47.666ms, BERT: 53.149ms\n",
            "DistilBERT model is 2.2 times faster\n",
            "DistilBERT: 19.175ms, LoRA_1: 28.987ms, BERT: 46.510ms\n",
            "DistilBERT model is 2.4 times faster\n",
            "DistilBERT: 38.691ms, LoRA_1: 28.213ms, BERT: 69.065ms\n",
            "DistilBERT model is 1.8 times faster\n",
            "DistilBERT: 21.013ms, LoRA_1: 29.538ms, BERT: 45.155ms\n",
            "DistilBERT model is 2.1 times faster\n",
            "DistilBERT: 24.539ms, LoRA_1: 19.434ms, BERT: 41.886ms\n",
            "DistilBERT model is 1.7 times faster\n",
            "DistilBERT: 28.442ms, LoRA_1: 32.334ms, BERT: 51.811ms\n",
            "DistilBERT model is 1.8 times faster\n",
            "DistilBERT: 19.695ms, LoRA_1: 20.991ms, BERT: 71.725ms\n",
            "DistilBERT model is 3.6 times faster\n",
            "DistilBERT: 37.138ms, LoRA_1: 30.314ms, BERT: 60.756ms\n",
            "DistilBERT model is 1.6 times faster\n",
            "DistilBERT: 31.804ms, LoRA_1: 37.399ms, BERT: 55.382ms\n",
            "DistilBERT model is 1.7 times faster\n",
            "DistilBERT: 39.364ms, LoRA_1: 37.028ms, BERT: 61.377ms\n",
            "DistilBERT model is 1.6 times faster\n",
            "DistilBERT: 19.108ms, LoRA_1: 18.965ms, BERT: 41.628ms\n",
            "DistilBERT model is 2.2 times faster\n",
            "DistilBERT: 19.102ms, LoRA_1: 18.852ms, BERT: 34.226ms\n",
            "DistilBERT model is 1.8 times faster\n",
            "DistilBERT: 19.464ms, LoRA_1: 18.399ms, BERT: 31.682ms\n",
            "DistilBERT model is 1.6 times faster\n",
            "DistilBERT: 17.441ms, LoRA_1: 17.453ms, BERT: 31.830ms\n",
            "DistilBERT model is 1.8 times faster\n",
            "DistilBERT: 16.753ms, LoRA_1: 16.851ms, BERT: 23.819ms\n",
            "DistilBERT model is 1.4 times faster\n",
            "DistilBERT: 17.454ms, LoRA_1: 17.612ms, BERT: 23.927ms\n",
            "DistilBERT model is 1.4 times faster\n",
            "DistilBERT: 18.814ms, LoRA_1: 17.551ms, BERT: 21.836ms\n",
            "DistilBERT model is 1.2 times faster\n",
            "DistilBERT: 18.395ms, LoRA_1: 17.531ms, BERT: 22.513ms\n",
            "DistilBERT model is 1.2 times faster\n",
            "DistilBERT: 17.744ms, LoRA_1: 16.673ms, BERT: 23.439ms\n",
            "DistilBERT model is 1.3 times faster\n",
            "DistilBERT: 17.709ms, LoRA_1: 17.584ms, BERT: 26.301ms\n",
            "DistilBERT model is 1.5 times faster\n",
            "DistilBERT: 16.943ms, LoRA_1: 17.006ms, BERT: 25.141ms\n",
            "DistilBERT model is 1.5 times faster\n",
            "DistilBERT: 17.450ms, LoRA_1: 18.115ms, BERT: 24.698ms\n",
            "DistilBERT model is 1.4 times faster\n",
            "DistilBERT: 16.887ms, LoRA_1: 17.579ms, BERT: 24.076ms\n",
            "DistilBERT model is 1.4 times faster\n",
            "DistilBERT: 18.305ms, LoRA_1: 17.674ms, BERT: 22.877ms\n",
            "DistilBERT model is 1.2 times faster\n",
            "DistilBERT: 19.427ms, LoRA_1: 17.813ms, BERT: 22.759ms\n",
            "DistilBERT model is 1.2 times faster\n",
            "DistilBERT: 19.454ms, LoRA_1: 18.085ms, BERT: 25.975ms\n",
            "DistilBERT model is 1.3 times faster\n",
            "DistilBERT: 18.146ms, LoRA_1: 17.461ms, BERT: 25.013ms\n",
            "DistilBERT model is 1.4 times faster\n",
            "DistilBERT: 17.777ms, LoRA_1: 17.731ms, BERT: 26.511ms\n",
            "DistilBERT model is 1.5 times faster\n",
            "DistilBERT: 17.820ms, LoRA_1: 17.537ms, BERT: 23.193ms\n",
            "DistilBERT model is 1.3 times faster\n",
            "DistilBERT: 18.813ms, LoRA_1: 19.263ms, BERT: 22.395ms\n",
            "DistilBERT model is 1.2 times faster\n",
            "DistilBERT: 19.850ms, LoRA_1: 18.013ms, BERT: 23.871ms\n",
            "DistilBERT model is 1.2 times faster\n",
            "DistilBERT: 18.713ms, LoRA_1: 18.264ms, BERT: 26.192ms\n",
            "DistilBERT model is 1.4 times faster\n",
            "DistilBERT: 16.774ms, LoRA_1: 17.627ms, BERT: 26.189ms\n",
            "DistilBERT model is 1.6 times faster\n",
            "DistilBERT: 17.053ms, LoRA_1: 17.232ms, BERT: 26.094ms\n",
            "DistilBERT model is 1.5 times faster\n",
            "DistilBERT: 19.421ms, LoRA_1: 18.997ms, BERT: 22.137ms\n",
            "DistilBERT model is 1.1 times faster\n",
            "DistilBERT: 18.698ms, LoRA_1: 17.536ms, BERT: 22.466ms\n",
            "DistilBERT model is 1.2 times faster\n",
            "DistilBERT: 19.427ms, LoRA_1: 18.157ms, BERT: 23.119ms\n",
            "DistilBERT model is 1.2 times faster\n",
            "DistilBERT: 19.063ms, LoRA_1: 18.761ms, BERT: 24.552ms\n",
            "DistilBERT model is 1.3 times faster\n",
            "DistilBERT: 18.178ms, LoRA_1: 17.451ms, BERT: 24.516ms\n",
            "DistilBERT model is 1.3 times faster\n",
            "DistilBERT: 16.918ms, LoRA_1: 17.625ms, BERT: 26.208ms\n",
            "DistilBERT model is 1.5 times faster\n",
            "DistilBERT: 18.670ms, LoRA_1: 17.898ms, BERT: 22.821ms\n",
            "DistilBERT model is 1.2 times faster\n",
            "DistilBERT: 16.661ms, LoRA_1: 15.648ms, BERT: 28.817ms\n",
            "DistilBERT model is 1.7 times faster\n",
            "DistilBERT: 19.751ms, LoRA_1: 19.943ms, BERT: 23.187ms\n",
            "DistilBERT model is 1.2 times faster\n",
            "DistilBERT: 19.341ms, LoRA_1: 18.682ms, BERT: 23.746ms\n",
            "DistilBERT model is 1.2 times faster\n",
            "DistilBERT: 18.633ms, LoRA_1: 17.172ms, BERT: 24.893ms\n",
            "DistilBERT model is 1.3 times faster\n",
            "DistilBERT: 17.462ms, LoRA_1: 17.265ms, BERT: 26.193ms\n",
            "DistilBERT model is 1.5 times faster\n",
            "DistilBERT: 17.299ms, LoRA_1: 17.717ms, BERT: 24.811ms\n",
            "DistilBERT model is 1.4 times faster\n",
            "DistilBERT: 18.883ms, LoRA_1: 18.303ms, BERT: 22.081ms\n",
            "DistilBERT model is 1.2 times faster\n",
            "DistilBERT: 17.554ms, LoRA_1: 16.325ms, BERT: 29.617ms\n",
            "DistilBERT model is 1.7 times faster\n",
            "DistilBERT: 18.792ms, LoRA_1: 19.449ms, BERT: 25.238ms\n",
            "DistilBERT model is 1.3 times faster\n",
            "DistilBERT: 19.290ms, LoRA_1: 18.891ms, BERT: 23.839ms\n",
            "DistilBERT model is 1.2 times faster\n",
            "DistilBERT: 19.341ms, LoRA_1: 18.075ms, BERT: 24.669ms\n",
            "DistilBERT model is 1.3 times faster\n",
            "DistilBERT: 18.160ms, LoRA_1: 17.705ms, BERT: 25.789ms\n",
            "DistilBERT model is 1.4 times faster\n",
            "DistilBERT: 17.470ms, LoRA_1: 17.558ms, BERT: 25.858ms\n",
            "DistilBERT model is 1.5 times faster\n",
            "DistilBERT: 16.858ms, LoRA_1: 17.516ms, BERT: 26.647ms\n",
            "DistilBERT model is 1.6 times faster\n",
            "DistilBERT: 16.548ms, LoRA_1: 16.415ms, BERT: 26.851ms\n",
            "DistilBERT model is 1.6 times faster\n",
            "DistilBERT: 18.699ms, LoRA_1: 18.842ms, BERT: 21.795ms\n",
            "DistilBERT model is 1.2 times faster\n",
            "DistilBERT: 15.868ms, LoRA_1: 15.886ms, BERT: 22.937ms\n",
            "DistilBERT model is 1.4 times faster\n",
            "DistilBERT: 16.916ms, LoRA_1: 17.598ms, BERT: 22.028ms\n",
            "DistilBERT model is 1.3 times faster\n",
            "DistilBERT: 18.318ms, LoRA_1: 17.990ms, BERT: 23.634ms\n",
            "DistilBERT model is 1.3 times faster\n",
            "DistilBERT: 19.236ms, LoRA_1: 18.829ms, BERT: 22.843ms\n",
            "DistilBERT model is 1.2 times faster\n",
            "DistilBERT: 16.443ms, LoRA_1: 16.267ms, BERT: 30.724ms\n",
            "DistilBERT model is 1.9 times faster\n",
            "DistilBERT: 19.280ms, LoRA_1: 17.123ms, BERT: 22.442ms\n",
            "DistilBERT model is 1.2 times faster\n",
            "DistilBERT: 19.329ms, LoRA_1: 18.219ms, BERT: 25.923ms\n",
            "DistilBERT model is 1.3 times faster\n",
            "DistilBERT: 19.521ms, LoRA_1: 17.680ms, BERT: 25.090ms\n",
            "DistilBERT model is 1.3 times faster\n",
            "DistilBERT: 18.768ms, LoRA_1: 17.400ms, BERT: 24.315ms\n",
            "DistilBERT model is 1.3 times faster\n",
            "DistilBERT: 17.189ms, LoRA_1: 17.725ms, BERT: 26.168ms\n",
            "DistilBERT model is 1.5 times faster\n",
            "DistilBERT: 17.903ms, LoRA_1: 18.259ms, BERT: 24.947ms\n",
            "DistilBERT model is 1.4 times faster\n",
            "DistilBERT: 18.102ms, LoRA_1: 18.037ms, BERT: 23.031ms\n",
            "DistilBERT model is 1.3 times faster\n",
            "DistilBERT: 18.781ms, LoRA_1: 18.030ms, BERT: 22.622ms\n",
            "DistilBERT model is 1.2 times faster\n",
            "DistilBERT: 19.325ms, LoRA_1: 18.913ms, BERT: 22.967ms\n",
            "DistilBERT model is 1.2 times faster\n",
            "DistilBERT: 19.407ms, LoRA_1: 18.637ms, BERT: 24.841ms\n",
            "DistilBERT model is 1.3 times faster\n",
            "DistilBERT: 19.852ms, LoRA_1: 18.705ms, BERT: 25.248ms\n",
            "DistilBERT model is 1.3 times faster\n",
            "DistilBERT: 19.902ms, LoRA_1: 17.844ms, BERT: 25.096ms\n",
            "DistilBERT model is 1.3 times faster\n",
            "DistilBERT: 18.391ms, LoRA_1: 17.124ms, BERT: 31.184ms\n",
            "DistilBERT model is 1.7 times faster\n",
            "DistilBERT: 19.865ms, LoRA_1: 18.188ms, BERT: 24.537ms\n",
            "DistilBERT model is 1.2 times faster\n",
            "DistilBERT: 19.440ms, LoRA_1: 19.501ms, BERT: 25.856ms\n",
            "DistilBERT model is 1.3 times faster\n",
            "DistilBERT: 18.369ms, LoRA_1: 17.512ms, BERT: 24.775ms\n",
            "DistilBERT model is 1.3 times faster\n",
            "DistilBERT: 19.367ms, LoRA_1: 17.438ms, BERT: 24.459ms\n",
            "DistilBERT model is 1.3 times faster\n",
            "DistilBERT: 18.889ms, LoRA_1: 19.681ms, BERT: 25.160ms\n",
            "DistilBERT model is 1.3 times faster\n",
            "DistilBERT: 18.397ms, LoRA_1: 17.840ms, BERT: 24.617ms\n",
            "DistilBERT model is 1.3 times faster\n",
            "DistilBERT: 19.388ms, LoRA_1: 18.649ms, BERT: 24.638ms\n",
            "DistilBERT model is 1.3 times faster\n",
            "DistilBERT: 19.360ms, LoRA_1: 18.010ms, BERT: 25.332ms\n",
            "DistilBERT model is 1.3 times faster\n",
            "DistilBERT: 19.014ms, LoRA_1: 17.551ms, BERT: 25.217ms\n",
            "DistilBERT model is 1.3 times faster\n",
            "DistilBERT: 18.794ms, LoRA_1: 17.584ms, BERT: 25.377ms\n",
            "DistilBERT model is 1.4 times faster\n",
            "DistilBERT: 18.299ms, LoRA_1: 17.426ms, BERT: 25.686ms\n",
            "DistilBERT model is 1.4 times faster\n",
            "DistilBERT: 17.149ms, LoRA_1: 17.052ms, BERT: 24.910ms\n",
            "DistilBERT model is 1.5 times faster\n",
            "DistilBERT: 19.374ms, LoRA_1: 17.760ms, BERT: 25.491ms\n",
            "DistilBERT model is 1.3 times faster\n",
            "DistilBERT: 18.932ms, LoRA_1: 18.367ms, BERT: 24.678ms\n",
            "DistilBERT model is 1.3 times faster\n",
            "DistilBERT: 19.728ms, LoRA_1: 18.274ms, BERT: 24.617ms\n",
            "DistilBERT model is 1.2 times faster\n",
            "DistilBERT: 19.471ms, LoRA_1: 18.704ms, BERT: 25.088ms\n",
            "DistilBERT model is 1.3 times faster\n",
            "DistilBERT: 19.903ms, LoRA_1: 18.774ms, BERT: 24.822ms\n",
            "DistilBERT model is 1.2 times faster\n",
            "DistilBERT: 19.208ms, LoRA_1: 18.320ms, BERT: 27.789ms\n",
            "DistilBERT model is 1.4 times faster\n",
            "DistilBERT: 19.395ms, LoRA_1: 19.247ms, BERT: 23.493ms\n",
            "DistilBERT model is 1.2 times faster\n",
            "DistilBERT: 18.895ms, LoRA_1: 19.995ms, BERT: 24.674ms\n",
            "DistilBERT model is 1.3 times faster\n",
            "DistilBERT: 19.795ms, LoRA_1: 18.712ms, BERT: 23.738ms\n",
            "DistilBERT model is 1.2 times faster\n",
            "DistilBERT: 19.823ms, LoRA_1: 19.203ms, BERT: 24.202ms\n",
            "DistilBERT model is 1.2 times faster\n",
            "DistilBERT: 19.329ms, LoRA_1: 19.384ms, BERT: 24.426ms\n",
            "DistilBERT model is 1.3 times faster\n"
          ]
        }
      ]
    },
    {
      "cell_type": "code",
      "source": [
        "print(sum(a) / 10)\n",
        "print(sum(b) / 10)\n",
        "print(sum(c) / 10)\n",
        "\n",
        "print(f'{sum(c) / sum(a):.3f}')\n",
        "print(f'{(sum(c) / sum(a) - 1.0) * 100 :.1f}')\n",
        "print(f'{(sum(a) / sum(c)) * 100 :.1f}')\n"
      ],
      "metadata": {
        "id": "PpMN6chDDQRD",
        "colab": {
          "base_uri": "https://localhost:8080/"
        },
        "outputId": "3c903871-2867-4403-8167-8b0c2b7103e8"
      },
      "execution_count": 36,
      "outputs": [
        {
          "output_type": "stream",
          "name": "stdout",
          "text": [
            "197.82485885620116\n",
            "195.7846752166748\n",
            "288.5262041091919\n",
            "1.458\n",
            "45.8\n",
            "68.6\n"
          ]
        }
      ]
    },
    {
      "cell_type": "code",
      "source": [],
      "metadata": {
        "id": "3518v-s4_UQJ"
      },
      "execution_count": 34,
      "outputs": []
    },
    {
      "cell_type": "code",
      "source": [],
      "metadata": {
        "id": "7iX_D-RZ_UVj"
      },
      "execution_count": 34,
      "outputs": []
    },
    {
      "cell_type": "code",
      "source": [],
      "metadata": {
        "id": "Ig-5_qJC_UZg"
      },
      "execution_count": 34,
      "outputs": []
    }
  ]
}