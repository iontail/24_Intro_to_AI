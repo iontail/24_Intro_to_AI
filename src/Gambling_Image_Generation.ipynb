{
  "cells": [
    {
      "cell_type": "code",
      "execution_count": 1,
      "metadata": {
        "id": "0oPbaygs-zlf"
      },
      "outputs": [
        {
          "name": "stdout",
          "output_type": "stream",
          "text": [
            "Collecting openai\n",
            "  Downloading openai-1.57.4-py3-none-any.whl.metadata (24 kB)\n",
            "Collecting anyio<5,>=3.5.0 (from openai)\n",
            "  Downloading anyio-4.7.0-py3-none-any.whl.metadata (4.7 kB)\n",
            "Collecting distro<2,>=1.7.0 (from openai)\n",
            "  Downloading distro-1.9.0-py3-none-any.whl.metadata (6.8 kB)\n",
            "Collecting httpx<1,>=0.23.0 (from openai)\n",
            "  Downloading httpx-0.28.1-py3-none-any.whl.metadata (7.1 kB)\n",
            "Collecting jiter<1,>=0.4.0 (from openai)\n",
            "  Downloading jiter-0.8.2-cp311-cp311-win_amd64.whl.metadata (5.3 kB)\n",
            "Collecting pydantic<3,>=1.9.0 (from openai)\n",
            "  Downloading pydantic-2.10.3-py3-none-any.whl.metadata (172 kB)\n",
            "     ---------------------------------------- 0.0/172.0 kB ? eta -:--:--\n",
            "     ------------------------------------ - 163.8/172.0 kB 5.0 MB/s eta 0:00:01\n",
            "     -------------------------------------- 172.0/172.0 kB 2.6 MB/s eta 0:00:00\n",
            "Collecting sniffio (from openai)\n",
            "  Downloading sniffio-1.3.1-py3-none-any.whl.metadata (3.9 kB)\n",
            "Collecting tqdm>4 (from openai)\n",
            "  Downloading tqdm-4.67.1-py3-none-any.whl.metadata (57 kB)\n",
            "     ---------------------------------------- 0.0/57.7 kB ? eta -:--:--\n",
            "     ---------------------------------------- 57.7/57.7 kB 1.5 MB/s eta 0:00:00\n",
            "Requirement already satisfied: typing-extensions<5,>=4.11 in c:\\users\\essyh\\appdata\\local\\packages\\pythonsoftwarefoundation.python.3.11_qbz5n2kfra8p0\\localcache\\local-packages\\python311\\site-packages (from openai) (4.12.2)\n",
            "Collecting idna>=2.8 (from anyio<5,>=3.5.0->openai)\n",
            "  Downloading idna-3.10-py3-none-any.whl.metadata (10 kB)\n",
            "Collecting certifi (from httpx<1,>=0.23.0->openai)\n",
            "  Downloading certifi-2024.12.14-py3-none-any.whl.metadata (2.3 kB)\n",
            "Collecting httpcore==1.* (from httpx<1,>=0.23.0->openai)\n",
            "  Downloading httpcore-1.0.7-py3-none-any.whl.metadata (21 kB)\n",
            "Collecting h11<0.15,>=0.13 (from httpcore==1.*->httpx<1,>=0.23.0->openai)\n",
            "  Downloading h11-0.14.0-py3-none-any.whl.metadata (8.2 kB)\n",
            "Collecting annotated-types>=0.6.0 (from pydantic<3,>=1.9.0->openai)\n",
            "  Downloading annotated_types-0.7.0-py3-none-any.whl.metadata (15 kB)\n",
            "Collecting pydantic-core==2.27.1 (from pydantic<3,>=1.9.0->openai)\n",
            "  Downloading pydantic_core-2.27.1-cp311-none-win_amd64.whl.metadata (6.7 kB)\n",
            "Requirement already satisfied: colorama in c:\\users\\essyh\\appdata\\local\\packages\\pythonsoftwarefoundation.python.3.11_qbz5n2kfra8p0\\localcache\\local-packages\\python311\\site-packages (from tqdm>4->openai) (0.4.6)\n",
            "Downloading openai-1.57.4-py3-none-any.whl (390 kB)\n",
            "   ---------------------------------------- 0.0/390.3 kB ? eta -:--:--\n",
            "   --------------------------------------  389.1/390.3 kB 23.7 MB/s eta 0:00:01\n",
            "   ---------------------------------------- 390.3/390.3 kB 8.1 MB/s eta 0:00:00\n",
            "Downloading anyio-4.7.0-py3-none-any.whl (93 kB)\n",
            "   ---------------------------------------- 0.0/93.1 kB ? eta -:--:--\n",
            "   ---------------------------------------- 93.1/93.1 kB 5.2 MB/s eta 0:00:00\n",
            "Downloading distro-1.9.0-py3-none-any.whl (20 kB)\n",
            "Downloading httpx-0.28.1-py3-none-any.whl (73 kB)\n",
            "   ---------------------------------------- 0.0/73.5 kB ? eta -:--:--\n",
            "   ---------------------------------------- 73.5/73.5 kB 4.0 MB/s eta 0:00:00\n",
            "Downloading httpcore-1.0.7-py3-none-any.whl (78 kB)\n",
            "   ---------------------------------------- 0.0/78.6 kB ? eta -:--:--\n",
            "   ---------------------------------------- 78.6/78.6 kB 2.1 MB/s eta 0:00:00\n",
            "Downloading jiter-0.8.2-cp311-cp311-win_amd64.whl (206 kB)\n",
            "   ---------------------------------------- 0.0/206.7 kB ? eta -:--:--\n",
            "   --------------------------------------- 206.7/206.7 kB 13.1 MB/s eta 0:00:00\n",
            "Downloading pydantic-2.10.3-py3-none-any.whl (456 kB)\n",
            "   ---------------------------------------- 0.0/457.0 kB ? eta -:--:--\n",
            "   --------------------------------------- 457.0/457.0 kB 14.4 MB/s eta 0:00:00\n",
            "Downloading pydantic_core-2.27.1-cp311-none-win_amd64.whl (2.0 MB)\n",
            "   ---------------------------------------- 0.0/2.0 MB ? eta -:--:--\n",
            "   ------------------------------ --------- 1.5/2.0 MB 48.6 MB/s eta 0:00:01\n",
            "   ---------------------------------------- 2.0/2.0 MB 25.3 MB/s eta 0:00:00\n",
            "Downloading sniffio-1.3.1-py3-none-any.whl (10 kB)\n",
            "Downloading tqdm-4.67.1-py3-none-any.whl (78 kB)\n",
            "   ---------------------------------------- 0.0/78.5 kB ? eta -:--:--\n",
            "   ---------------------------------------- 78.5/78.5 kB 4.6 MB/s eta 0:00:00\n",
            "Downloading annotated_types-0.7.0-py3-none-any.whl (13 kB)\n",
            "Downloading idna-3.10-py3-none-any.whl (70 kB)\n",
            "   ---------------------------------------- 0.0/70.4 kB ? eta -:--:--\n",
            "   ---------------------------------------- 70.4/70.4 kB 4.0 MB/s eta 0:00:00\n",
            "Downloading certifi-2024.12.14-py3-none-any.whl (164 kB)\n",
            "   ---------------------------------------- 0.0/164.9 kB ? eta -:--:--\n",
            "   --------------------------------------- 164.9/164.9 kB 10.3 MB/s eta 0:00:00\n",
            "Downloading h11-0.14.0-py3-none-any.whl (58 kB)\n",
            "   ---------------------------------------- 0.0/58.3 kB ? eta -:--:--\n",
            "   ---------------------------------------- 58.3/58.3 kB 3.0 MB/s eta 0:00:00\n",
            "Installing collected packages: tqdm, sniffio, pydantic-core, jiter, idna, h11, distro, certifi, annotated-types, pydantic, httpcore, anyio, httpx, openai\n",
            "Successfully installed annotated-types-0.7.0 anyio-4.7.0 certifi-2024.12.14 distro-1.9.0 h11-0.14.0 httpcore-1.0.7 httpx-0.28.1 idna-3.10 jiter-0.8.2 openai-1.57.4 pydantic-2.10.3 pydantic-core-2.27.1 sniffio-1.3.1 tqdm-4.67.1\n",
            "Note: you may need to restart the kernel to use updated packages.\n"
          ]
        },
        {
          "name": "stderr",
          "output_type": "stream",
          "text": [
            "\n",
            "[notice] A new release of pip is available: 24.0 -> 24.3.1\n",
            "[notice] To update, run: C:\\Users\\essyh\\AppData\\Local\\Microsoft\\WindowsApps\\PythonSoftwareFoundation.Python.3.11_qbz5n2kfra8p0\\python.exe -m pip install --upgrade pip\n"
          ]
        }
      ],
      "source": [
        "pip install openai --upgrade"
      ]
    },
    {
      "cell_type": "code",
      "execution_count": 2,
      "metadata": {
        "id": "6JhKxUOu-TnX"
      },
      "outputs": [],
      "source": [
        "import openai \n",
        "import os"
      ]
    },
    {
      "cell_type": "code",
      "execution_count": 5,
      "metadata": {
        "id": "wBBo-xC7_bRV"
      },
      "outputs": [],
      "source": [
        "client = openai.OpenAI(api_key = 'YOUR_API_KEY')"
      ]
    },
    {
      "cell_type": "code",
      "execution_count": 49,
      "metadata": {},
      "outputs": [],
      "source": [
        "PROMPT = \"Image tailored to reflect the personal story of the individual, incorporating elements of their past dreams and struggles with online gambling addiction\"\n",
        "response = client.images.generate(\n",
        "    prompt=PROMPT,\n",
        "    n=1,\n",
        "    size=\"1024x1024\",\n",
        ")"
      ]
    },
    {
      "cell_type": "code",
      "execution_count": 50,
      "metadata": {},
      "outputs": [
        {
          "data": {
            "text/plain": [
              "'https://oaidalleapiprodscus.blob.core.windows.net/private/org-Rg5mDU4xDXElCpMGlY7V0wNN/user-6dav5URJK8wRhhyKFM1BhHgC/img-BjSUxEsB9wyDF5vp2TeGOWz9.png?st=2024-12-17T07%3A26%3A05Z&se=2024-12-17T09%3A26%3A05Z&sp=r&sv=2024-08-04&sr=b&rscd=inline&rsct=image/png&skoid=d505667d-d6c1-4a0a-bac7-5c84a87759f8&sktid=a48cca56-e6da-484e-a814-9c849652bcb3&skt=2024-12-16T21%3A09%3A03Z&ske=2024-12-17T21%3A09%3A03Z&sks=b&skv=2024-08-04&sig=UYTcOL/U//wCKsBhSQIxfrHCNHj23SU1R9k5GHHY6vw%3D'"
            ]
          },
          "execution_count": 50,
          "metadata": {},
          "output_type": "execute_result"
        }
      ],
      "source": [
        "response.data[0].url"
      ]
    },
    {
      "cell_type": "code",
      "execution_count": 51,
      "metadata": {},
      "outputs": [
        {
          "data": {
            "text/html": [
              "<img src=\"https://oaidalleapiprodscus.blob.core.windows.net/private/org-Rg5mDU4xDXElCpMGlY7V0wNN/user-6dav5URJK8wRhhyKFM1BhHgC/img-BjSUxEsB9wyDF5vp2TeGOWz9.png?st=2024-12-17T07%3A26%3A05Z&se=2024-12-17T09%3A26%3A05Z&sp=r&sv=2024-08-04&sr=b&rscd=inline&rsct=image/png&skoid=d505667d-d6c1-4a0a-bac7-5c84a87759f8&sktid=a48cca56-e6da-484e-a814-9c849652bcb3&skt=2024-12-16T21%3A09%3A03Z&ske=2024-12-17T21%3A09%3A03Z&sks=b&skv=2024-08-04&sig=UYTcOL/U//wCKsBhSQIxfrHCNHj23SU1R9k5GHHY6vw%3D\"/>"
            ],
            "text/plain": [
              "<IPython.core.display.Image object>"
            ]
          },
          "metadata": {},
          "output_type": "display_data"
        }
      ],
      "source": [
        "from IPython.display import Image, display\n",
        "\n",
        "img_url = response.data[0].url\n",
        "display(Image(url=img_url))"
      ]
    }
  ],
  "metadata": {
    "colab": {
      "provenance": []
    },
    "kernelspec": {
      "display_name": "Python 3",
      "name": "python3"
    },
    "language_info": {
      "codemirror_mode": {
        "name": "ipython",
        "version": 3
      },
      "file_extension": ".py",
      "mimetype": "text/x-python",
      "name": "python",
      "nbconvert_exporter": "python",
      "pygments_lexer": "ipython3",
      "version": "3.11.9"
    }
  },
  "nbformat": 4,
  "nbformat_minor": 0
}
